{
 "cells": [
  {
   "cell_type": "markdown",
   "metadata": {},
   "source": [
    "# **Jet_Flight**"
   ]
  },
  {
   "cell_type": "markdown",
   "metadata": {},
   "source": [
    "## Overview"
   ]
  },
  {
   "cell_type": "markdown",
   "metadata": {},
   "source": [
    "## I. Business Understanding"
   ]
  },
  {
   "cell_type": "markdown",
   "metadata": {},
   "source": [
    "## II. Data Understanding"
   ]
  },
  {
   "cell_type": "markdown",
   "metadata": {},
   "source": [
    "### Imports Required"
   ]
  },
  {
   "cell_type": "code",
   "execution_count": 1533,
   "metadata": {},
   "outputs": [],
   "source": [
    "import pandas as pd\n",
    "import matplotlib.pyplot as plt\n",
    "import numpy as np\n",
    "import seaborn as sns\n",
    "%matplotlib inline"
   ]
  },
  {
   "cell_type": "markdown",
   "metadata": {},
   "source": [
    "### Access and Read Data\n",
    "I am reading my csv file using the [pandas library](https://pandas.pydata.org/docs/reference/index.html). The pandas function in the cell below reads csv files. \n",
    "It takes two parameters: \n",
    "1. A data file. (required)  \n",
    "2. An encoding byte. (optional) "
   ]
  },
  {
   "cell_type": "code",
   "execution_count": 1534,
   "metadata": {},
   "outputs": [
    {
     "name": "stderr",
     "output_type": "stream",
     "text": [
      "c:\\Users\\user\\anaconda3\\envs\\learn-env\\lib\\site-packages\\IPython\\core\\interactiveshell.py:3145: DtypeWarning: Columns (6,7,28) have mixed types.Specify dtype option on import or set low_memory=False.\n",
      "  has_raised = await self.run_ast_nodes(code_ast.body, cell_name,\n"
     ]
    },
    {
     "data": {
      "text/html": [
       "<div>\n",
       "<style scoped>\n",
       "    .dataframe tbody tr th:only-of-type {\n",
       "        vertical-align: middle;\n",
       "    }\n",
       "\n",
       "    .dataframe tbody tr th {\n",
       "        vertical-align: top;\n",
       "    }\n",
       "\n",
       "    .dataframe thead th {\n",
       "        text-align: right;\n",
       "    }\n",
       "</style>\n",
       "<table border=\"1\" class=\"dataframe\">\n",
       "  <thead>\n",
       "    <tr style=\"text-align: right;\">\n",
       "      <th></th>\n",
       "      <th>Event.Id</th>\n",
       "      <th>Investigation.Type</th>\n",
       "      <th>Accident.Number</th>\n",
       "      <th>Event.Date</th>\n",
       "      <th>Location</th>\n",
       "      <th>Country</th>\n",
       "      <th>Latitude</th>\n",
       "      <th>Longitude</th>\n",
       "      <th>Airport.Code</th>\n",
       "      <th>Airport.Name</th>\n",
       "      <th>...</th>\n",
       "      <th>Purpose.of.flight</th>\n",
       "      <th>Air.carrier</th>\n",
       "      <th>Total.Fatal.Injuries</th>\n",
       "      <th>Total.Serious.Injuries</th>\n",
       "      <th>Total.Minor.Injuries</th>\n",
       "      <th>Total.Uninjured</th>\n",
       "      <th>Weather.Condition</th>\n",
       "      <th>Broad.phase.of.flight</th>\n",
       "      <th>Report.Status</th>\n",
       "      <th>Publication.Date</th>\n",
       "    </tr>\n",
       "  </thead>\n",
       "  <tbody>\n",
       "    <tr>\n",
       "      <th>0</th>\n",
       "      <td>20001218X45444</td>\n",
       "      <td>Accident</td>\n",
       "      <td>SEA87LA080</td>\n",
       "      <td>1948-10-24</td>\n",
       "      <td>MOOSE CREEK, ID</td>\n",
       "      <td>United States</td>\n",
       "      <td>NaN</td>\n",
       "      <td>NaN</td>\n",
       "      <td>NaN</td>\n",
       "      <td>NaN</td>\n",
       "      <td>...</td>\n",
       "      <td>Personal</td>\n",
       "      <td>NaN</td>\n",
       "      <td>2.0</td>\n",
       "      <td>0.0</td>\n",
       "      <td>0.0</td>\n",
       "      <td>0.0</td>\n",
       "      <td>UNK</td>\n",
       "      <td>Cruise</td>\n",
       "      <td>Probable Cause</td>\n",
       "      <td>NaN</td>\n",
       "    </tr>\n",
       "    <tr>\n",
       "      <th>1</th>\n",
       "      <td>20001218X45447</td>\n",
       "      <td>Accident</td>\n",
       "      <td>LAX94LA336</td>\n",
       "      <td>1962-07-19</td>\n",
       "      <td>BRIDGEPORT, CA</td>\n",
       "      <td>United States</td>\n",
       "      <td>NaN</td>\n",
       "      <td>NaN</td>\n",
       "      <td>NaN</td>\n",
       "      <td>NaN</td>\n",
       "      <td>...</td>\n",
       "      <td>Personal</td>\n",
       "      <td>NaN</td>\n",
       "      <td>4.0</td>\n",
       "      <td>0.0</td>\n",
       "      <td>0.0</td>\n",
       "      <td>0.0</td>\n",
       "      <td>UNK</td>\n",
       "      <td>Unknown</td>\n",
       "      <td>Probable Cause</td>\n",
       "      <td>19-09-1996</td>\n",
       "    </tr>\n",
       "    <tr>\n",
       "      <th>2</th>\n",
       "      <td>20061025X01555</td>\n",
       "      <td>Accident</td>\n",
       "      <td>NYC07LA005</td>\n",
       "      <td>1974-08-30</td>\n",
       "      <td>Saltville, VA</td>\n",
       "      <td>United States</td>\n",
       "      <td>36.9222</td>\n",
       "      <td>-81.8781</td>\n",
       "      <td>NaN</td>\n",
       "      <td>NaN</td>\n",
       "      <td>...</td>\n",
       "      <td>Personal</td>\n",
       "      <td>NaN</td>\n",
       "      <td>3.0</td>\n",
       "      <td>NaN</td>\n",
       "      <td>NaN</td>\n",
       "      <td>NaN</td>\n",
       "      <td>IMC</td>\n",
       "      <td>Cruise</td>\n",
       "      <td>Probable Cause</td>\n",
       "      <td>26-02-2007</td>\n",
       "    </tr>\n",
       "    <tr>\n",
       "      <th>3</th>\n",
       "      <td>20001218X45448</td>\n",
       "      <td>Accident</td>\n",
       "      <td>LAX96LA321</td>\n",
       "      <td>1977-06-19</td>\n",
       "      <td>EUREKA, CA</td>\n",
       "      <td>United States</td>\n",
       "      <td>NaN</td>\n",
       "      <td>NaN</td>\n",
       "      <td>NaN</td>\n",
       "      <td>NaN</td>\n",
       "      <td>...</td>\n",
       "      <td>Personal</td>\n",
       "      <td>NaN</td>\n",
       "      <td>2.0</td>\n",
       "      <td>0.0</td>\n",
       "      <td>0.0</td>\n",
       "      <td>0.0</td>\n",
       "      <td>IMC</td>\n",
       "      <td>Cruise</td>\n",
       "      <td>Probable Cause</td>\n",
       "      <td>12-09-2000</td>\n",
       "    </tr>\n",
       "    <tr>\n",
       "      <th>4</th>\n",
       "      <td>20041105X01764</td>\n",
       "      <td>Accident</td>\n",
       "      <td>CHI79FA064</td>\n",
       "      <td>1979-08-02</td>\n",
       "      <td>Canton, OH</td>\n",
       "      <td>United States</td>\n",
       "      <td>NaN</td>\n",
       "      <td>NaN</td>\n",
       "      <td>NaN</td>\n",
       "      <td>NaN</td>\n",
       "      <td>...</td>\n",
       "      <td>Personal</td>\n",
       "      <td>NaN</td>\n",
       "      <td>1.0</td>\n",
       "      <td>2.0</td>\n",
       "      <td>NaN</td>\n",
       "      <td>0.0</td>\n",
       "      <td>VMC</td>\n",
       "      <td>Approach</td>\n",
       "      <td>Probable Cause</td>\n",
       "      <td>16-04-1980</td>\n",
       "    </tr>\n",
       "  </tbody>\n",
       "</table>\n",
       "<p>5 rows × 31 columns</p>\n",
       "</div>"
      ],
      "text/plain": [
       "         Event.Id Investigation.Type Accident.Number  Event.Date  \\\n",
       "0  20001218X45444           Accident      SEA87LA080  1948-10-24   \n",
       "1  20001218X45447           Accident      LAX94LA336  1962-07-19   \n",
       "2  20061025X01555           Accident      NYC07LA005  1974-08-30   \n",
       "3  20001218X45448           Accident      LAX96LA321  1977-06-19   \n",
       "4  20041105X01764           Accident      CHI79FA064  1979-08-02   \n",
       "\n",
       "          Location        Country Latitude Longitude Airport.Code  \\\n",
       "0  MOOSE CREEK, ID  United States      NaN       NaN          NaN   \n",
       "1   BRIDGEPORT, CA  United States      NaN       NaN          NaN   \n",
       "2    Saltville, VA  United States  36.9222  -81.8781          NaN   \n",
       "3       EUREKA, CA  United States      NaN       NaN          NaN   \n",
       "4       Canton, OH  United States      NaN       NaN          NaN   \n",
       "\n",
       "  Airport.Name  ... Purpose.of.flight Air.carrier Total.Fatal.Injuries  \\\n",
       "0          NaN  ...          Personal         NaN                  2.0   \n",
       "1          NaN  ...          Personal         NaN                  4.0   \n",
       "2          NaN  ...          Personal         NaN                  3.0   \n",
       "3          NaN  ...          Personal         NaN                  2.0   \n",
       "4          NaN  ...          Personal         NaN                  1.0   \n",
       "\n",
       "  Total.Serious.Injuries Total.Minor.Injuries Total.Uninjured  \\\n",
       "0                    0.0                  0.0             0.0   \n",
       "1                    0.0                  0.0             0.0   \n",
       "2                    NaN                  NaN             NaN   \n",
       "3                    0.0                  0.0             0.0   \n",
       "4                    2.0                  NaN             0.0   \n",
       "\n",
       "  Weather.Condition  Broad.phase.of.flight   Report.Status Publication.Date  \n",
       "0               UNK                 Cruise  Probable Cause              NaN  \n",
       "1               UNK                Unknown  Probable Cause       19-09-1996  \n",
       "2               IMC                 Cruise  Probable Cause       26-02-2007  \n",
       "3               IMC                 Cruise  Probable Cause       12-09-2000  \n",
       "4               VMC               Approach  Probable Cause       16-04-1980  \n",
       "\n",
       "[5 rows x 31 columns]"
      ]
     },
     "execution_count": 1534,
     "metadata": {},
     "output_type": "execute_result"
    }
   ],
   "source": [
    "df_original = pd.read_csv(\"data/AviationData.csv\", encoding='ISO-8859-1')\n",
    "df_original.head()"
   ]
  },
  {
   "cell_type": "markdown",
   "metadata": {},
   "source": [
    "Display information about our data and get better visual understanding"
   ]
  },
  {
   "cell_type": "code",
   "execution_count": 1535,
   "metadata": {},
   "outputs": [
    {
     "name": "stdout",
     "output_type": "stream",
     "text": [
      "<class 'pandas.core.frame.DataFrame'>\n",
      "RangeIndex: 88889 entries, 0 to 88888\n",
      "Data columns (total 31 columns):\n",
      " #   Column                  Non-Null Count  Dtype  \n",
      "---  ------                  --------------  -----  \n",
      " 0   Event.Id                88889 non-null  object \n",
      " 1   Investigation.Type      88889 non-null  object \n",
      " 2   Accident.Number         88889 non-null  object \n",
      " 3   Event.Date              88889 non-null  object \n",
      " 4   Location                88837 non-null  object \n",
      " 5   Country                 88663 non-null  object \n",
      " 6   Latitude                34382 non-null  object \n",
      " 7   Longitude               34373 non-null  object \n",
      " 8   Airport.Code            50249 non-null  object \n",
      " 9   Airport.Name            52790 non-null  object \n",
      " 10  Injury.Severity         87889 non-null  object \n",
      " 11  Aircraft.damage         85695 non-null  object \n",
      " 12  Aircraft.Category       32287 non-null  object \n",
      " 13  Registration.Number     87572 non-null  object \n",
      " 14  Make                    88826 non-null  object \n",
      " 15  Model                   88797 non-null  object \n",
      " 16  Amateur.Built           88787 non-null  object \n",
      " 17  Number.of.Engines       82805 non-null  float64\n",
      " 18  Engine.Type             81812 non-null  object \n",
      " 19  FAR.Description         32023 non-null  object \n",
      " 20  Schedule                12582 non-null  object \n",
      " 21  Purpose.of.flight       82697 non-null  object \n",
      " 22  Air.carrier             16648 non-null  object \n",
      " 23  Total.Fatal.Injuries    77488 non-null  float64\n",
      " 24  Total.Serious.Injuries  76379 non-null  float64\n",
      " 25  Total.Minor.Injuries    76956 non-null  float64\n",
      " 26  Total.Uninjured         82977 non-null  float64\n",
      " 27  Weather.Condition       84397 non-null  object \n",
      " 28  Broad.phase.of.flight   61724 non-null  object \n",
      " 29  Report.Status           82508 non-null  object \n",
      " 30  Publication.Date        75118 non-null  object \n",
      "dtypes: float64(5), object(26)\n",
      "memory usage: 21.0+ MB\n"
     ]
    }
   ],
   "source": [
    "df_original.info()"
   ]
  },
  {
   "cell_type": "markdown",
   "metadata": {},
   "source": [
    "**Create a copy** of the original data to avoid confusion during cleaning and imputation."
   ]
  },
  {
   "cell_type": "code",
   "execution_count": 1536,
   "metadata": {},
   "outputs": [],
   "source": [
    "new_aviation_data = df_original.copy()"
   ]
  },
  {
   "cell_type": "markdown",
   "metadata": {},
   "source": [
    "## III. Data Preparation\n",
    "This step ensures data is in suitable state for analysing, visualizing and deriving suitable insights to solve the business problem.\n",
    " \n",
    "I am will be:\n",
    "1. Cleaning raw data.\n",
    "2. Organizing raw data."
   ]
  },
  {
   "cell_type": "code",
   "execution_count": 1537,
   "metadata": {},
   "outputs": [
    {
     "name": "stdout",
     "output_type": "stream",
     "text": [
      "<class 'pandas.core.frame.DataFrame'>\n",
      "RangeIndex: 88889 entries, 0 to 88888\n",
      "Data columns (total 31 columns):\n",
      " #   Column                  Non-Null Count  Dtype  \n",
      "---  ------                  --------------  -----  \n",
      " 0   Event.Id                88889 non-null  object \n",
      " 1   Investigation.Type      88889 non-null  object \n",
      " 2   Accident.Number         88889 non-null  object \n",
      " 3   Event.Date              88889 non-null  object \n",
      " 4   Location                88837 non-null  object \n",
      " 5   Country                 88663 non-null  object \n",
      " 6   Latitude                34382 non-null  object \n",
      " 7   Longitude               34373 non-null  object \n",
      " 8   Airport.Code            50249 non-null  object \n",
      " 9   Airport.Name            52790 non-null  object \n",
      " 10  Injury.Severity         87889 non-null  object \n",
      " 11  Aircraft.damage         85695 non-null  object \n",
      " 12  Aircraft.Category       32287 non-null  object \n",
      " 13  Registration.Number     87572 non-null  object \n",
      " 14  Make                    88826 non-null  object \n",
      " 15  Model                   88797 non-null  object \n",
      " 16  Amateur.Built           88787 non-null  object \n",
      " 17  Number.of.Engines       82805 non-null  float64\n",
      " 18  Engine.Type             81812 non-null  object \n",
      " 19  FAR.Description         32023 non-null  object \n",
      " 20  Schedule                12582 non-null  object \n",
      " 21  Purpose.of.flight       82697 non-null  object \n",
      " 22  Air.carrier             16648 non-null  object \n",
      " 23  Total.Fatal.Injuries    77488 non-null  float64\n",
      " 24  Total.Serious.Injuries  76379 non-null  float64\n",
      " 25  Total.Minor.Injuries    76956 non-null  float64\n",
      " 26  Total.Uninjured         82977 non-null  float64\n",
      " 27  Weather.Condition       84397 non-null  object \n",
      " 28  Broad.phase.of.flight   61724 non-null  object \n",
      " 29  Report.Status           82508 non-null  object \n",
      " 30  Publication.Date        75118 non-null  object \n",
      "dtypes: float64(5), object(26)\n",
      "memory usage: 21.0+ MB\n"
     ]
    }
   ],
   "source": [
    "# Display information from our newly created copy of dataset \n",
    "new_aviation_data.info()"
   ]
  },
  {
   "cell_type": "markdown",
   "metadata": {},
   "source": [
    "### Data Cleaning\n",
    "* Correcting errors\n",
    "* Handling missing values\n",
    "* Removing duplicates\n",
    "* Dropping unnecessary columns"
   ]
  },
  {
   "cell_type": "markdown",
   "metadata": {},
   "source": [
    "From the code cell above, we can see the **naming convention of columns** does not align with programmers rule.\n",
    "\n",
    "The column names contain a dot in between, which is wrong for programmers. So, we need to ensure it is correct."
   ]
  },
  {
   "cell_type": "code",
   "execution_count": 1538,
   "metadata": {},
   "outputs": [
    {
     "data": {
      "text/plain": [
       "Index(['Event_Id', 'Investigation_Type', 'Accident_Number', 'Event_Date',\n",
       "       'Location', 'Country', 'Latitude', 'Longitude', 'Airport_Code',\n",
       "       'Airport_Name', 'Injury_Severity', 'Aircraft_damage',\n",
       "       'Aircraft_Category', 'Registration_Number', 'Make', 'Model',\n",
       "       'Amateur_Built', 'Number_of_Engines', 'Engine_Type', 'FAR_Description',\n",
       "       'Schedule', 'Purpose_of_flight', 'Air_carrier', 'Total_Fatal_Injuries',\n",
       "       'Total_Serious_Injuries', 'Total_Minor_Injuries', 'Total_Uninjured',\n",
       "       'Weather_Condition', 'Broad_phase_of_flight', 'Report_Status',\n",
       "       'Publication_Date'],\n",
       "      dtype='object')"
      ]
     },
     "execution_count": 1538,
     "metadata": {},
     "output_type": "execute_result"
    }
   ],
   "source": [
    "'''In this code cell, I will replace the '.' with '_' in every column name\n",
    "using the pandas replace method '''\n",
    "\n",
    "new_aviation_data.columns = new_aviation_data.columns.str.replace('.', '_')\n",
    "new_aviation_data.columns"
   ]
  },
  {
   "cell_type": "markdown",
   "metadata": {},
   "source": [
    "Identify any occurrence of missing values and return the number of counts it appears in each column of our dataset."
   ]
  },
  {
   "cell_type": "code",
   "execution_count": 1539,
   "metadata": {},
   "outputs": [
    {
     "data": {
      "text/plain": [
       "Event_Id                      0\n",
       "Investigation_Type            0\n",
       "Accident_Number               0\n",
       "Event_Date                    0\n",
       "Location                     52\n",
       "Country                     226\n",
       "Latitude                  54507\n",
       "Longitude                 54516\n",
       "Airport_Code              38640\n",
       "Airport_Name              36099\n",
       "Injury_Severity            1000\n",
       "Aircraft_damage            3194\n",
       "Aircraft_Category         56602\n",
       "Registration_Number        1317\n",
       "Make                         63\n",
       "Model                        92\n",
       "Amateur_Built               102\n",
       "Number_of_Engines          6084\n",
       "Engine_Type                7077\n",
       "FAR_Description           56866\n",
       "Schedule                  76307\n",
       "Purpose_of_flight          6192\n",
       "Air_carrier               72241\n",
       "Total_Fatal_Injuries      11401\n",
       "Total_Serious_Injuries    12510\n",
       "Total_Minor_Injuries      11933\n",
       "Total_Uninjured            5912\n",
       "Weather_Condition          4492\n",
       "Broad_phase_of_flight     27165\n",
       "Report_Status              6381\n",
       "Publication_Date          13771\n",
       "dtype: int64"
      ]
     },
     "execution_count": 1539,
     "metadata": {},
     "output_type": "execute_result"
    }
   ],
   "source": [
    "new_aviation_data.isna().sum()"
   ]
  },
  {
   "cell_type": "code",
   "execution_count": 1540,
   "metadata": {},
   "outputs": [],
   "source": [
    "'''replacing unknown, NONE, None values with nan, which mostly likely appears in\n",
    "many datasets.'''\n",
    "new_aviation_data = new_aviation_data.replace([\"Unknown\", \"unknown\", \"NONE\", \"None\",'<br /><br />'], np.nan)"
   ]
  },
  {
   "cell_type": "code",
   "execution_count": 1541,
   "metadata": {},
   "outputs": [],
   "source": [
    "new_aviation_data['Make'] = new_aviation_data['Make'].replace({'CESSNA': 'Cessna', 'PIPER': 'Piper'})"
   ]
  },
  {
   "cell_type": "code",
   "execution_count": 1542,
   "metadata": {},
   "outputs": [],
   "source": [
    "new_aviation_data['Weather_Condition'] = new_aviation_data['Weather_Condition'].replace('Unk', 'UNK')"
   ]
  },
  {
   "cell_type": "markdown",
   "metadata": {},
   "source": [
    "**Remove Duplicates**\n",
    "\n",
    "Check for the count of duplicates in every column"
   ]
  },
  {
   "cell_type": "code",
   "execution_count": 1543,
   "metadata": {},
   "outputs": [],
   "source": [
    "'''created a function to iterate over each column \n",
    "and check for duplicates and their count.'''\n",
    "\n",
    "def column_duplicates():\n",
    "    for data_cols in new_aviation_data.columns:\n",
    "        print(f'{data_cols}: = {new_aviation_data[data_cols].duplicated().sum()}' )"
   ]
  },
  {
   "cell_type": "code",
   "execution_count": 1544,
   "metadata": {},
   "outputs": [
    {
     "name": "stdout",
     "output_type": "stream",
     "text": [
      "Event_Id: = 938\n",
      "Investigation_Type: = 88887\n",
      "Accident_Number: = 26\n",
      "Event_Date: = 74107\n",
      "Location: = 61131\n",
      "Country: = 88670\n",
      "Latitude: = 63296\n",
      "Longitude: = 61732\n",
      "Airport_Code: = 78515\n",
      "Airport_Name: = 64020\n",
      "Injury_Severity: = 88779\n",
      "Aircraft_damage: = 88885\n",
      "Aircraft_Category: = 88874\n",
      "Registration_Number: = 9787\n",
      "Make: = 80655\n",
      "Model: = 76573\n",
      "Amateur_Built: = 88886\n",
      "Number_of_Engines: = 88881\n",
      "Engine_Type: = 88878\n",
      "FAR_Description: = 88858\n",
      "Schedule: = 88885\n",
      "Purpose_of_flight: = 88863\n",
      "Air_carrier: = 75301\n",
      "Total_Fatal_Injuries: = 88763\n",
      "Total_Serious_Injuries: = 88838\n",
      "Total_Minor_Injuries: = 88831\n",
      "Total_Uninjured: = 88509\n",
      "Weather_Condition: = 88885\n",
      "Broad_phase_of_flight: = 88877\n",
      "Report_Status: = 71815\n",
      "Publication_Date: = 85964\n"
     ]
    }
   ],
   "source": [
    "# call the column_duplicates function to print each column with its count of duplicates\n",
    "\n",
    "column_duplicates()"
   ]
  },
  {
   "cell_type": "markdown",
   "metadata": {},
   "source": [
    "**Primary Key**\n",
    "\n",
    "Event_id is my primary key which should be considered unique. I will check for duplicates and delete the entire row from my dataset."
   ]
  },
  {
   "cell_type": "code",
   "execution_count": 1545,
   "metadata": {},
   "outputs": [
    {
     "data": {
      "text/plain": [
       "True"
      ]
     },
     "execution_count": 1545,
     "metadata": {},
     "output_type": "execute_result"
    }
   ],
   "source": [
    "'''Returns True if the column contains duplicates'''\n",
    "new_aviation_data['Event_Id'].duplicated().any()"
   ]
  },
  {
   "cell_type": "code",
   "execution_count": 1546,
   "metadata": {},
   "outputs": [
    {
     "data": {
      "text/plain": [
       "False    87951\n",
       "True       938\n",
       "Name: Event_Id, dtype: int64"
      ]
     },
     "execution_count": 1546,
     "metadata": {},
     "output_type": "execute_result"
    }
   ],
   "source": [
    "# False - unique values\n",
    "# True - duplicates\n",
    "'''get the count of unique values and duplicates'''\n",
    "new_aviation_data['Event_Id'].duplicated().value_counts()"
   ]
  },
  {
   "cell_type": "code",
   "execution_count": 1547,
   "metadata": {},
   "outputs": [
    {
     "data": {
      "text/html": [
       "<div>\n",
       "<style scoped>\n",
       "    .dataframe tbody tr th:only-of-type {\n",
       "        vertical-align: middle;\n",
       "    }\n",
       "\n",
       "    .dataframe tbody tr th {\n",
       "        vertical-align: top;\n",
       "    }\n",
       "\n",
       "    .dataframe thead th {\n",
       "        text-align: right;\n",
       "    }\n",
       "</style>\n",
       "<table border=\"1\" class=\"dataframe\">\n",
       "  <thead>\n",
       "    <tr style=\"text-align: right;\">\n",
       "      <th></th>\n",
       "      <th>Event_Id</th>\n",
       "      <th>Investigation_Type</th>\n",
       "      <th>Accident_Number</th>\n",
       "      <th>Event_Date</th>\n",
       "      <th>Location</th>\n",
       "      <th>Country</th>\n",
       "      <th>Latitude</th>\n",
       "      <th>Longitude</th>\n",
       "      <th>Airport_Code</th>\n",
       "      <th>Airport_Name</th>\n",
       "      <th>...</th>\n",
       "      <th>Purpose_of_flight</th>\n",
       "      <th>Air_carrier</th>\n",
       "      <th>Total_Fatal_Injuries</th>\n",
       "      <th>Total_Serious_Injuries</th>\n",
       "      <th>Total_Minor_Injuries</th>\n",
       "      <th>Total_Uninjured</th>\n",
       "      <th>Weather_Condition</th>\n",
       "      <th>Broad_phase_of_flight</th>\n",
       "      <th>Report_Status</th>\n",
       "      <th>Publication_Date</th>\n",
       "    </tr>\n",
       "  </thead>\n",
       "  <tbody>\n",
       "    <tr>\n",
       "      <th>0</th>\n",
       "      <td>20001218X45444</td>\n",
       "      <td>Accident</td>\n",
       "      <td>SEA87LA080</td>\n",
       "      <td>1948-10-24</td>\n",
       "      <td>MOOSE CREEK, ID</td>\n",
       "      <td>United States</td>\n",
       "      <td>NaN</td>\n",
       "      <td>NaN</td>\n",
       "      <td>NaN</td>\n",
       "      <td>NaN</td>\n",
       "      <td>...</td>\n",
       "      <td>Personal</td>\n",
       "      <td>NaN</td>\n",
       "      <td>2.0</td>\n",
       "      <td>0.0</td>\n",
       "      <td>0.0</td>\n",
       "      <td>0.0</td>\n",
       "      <td>UNK</td>\n",
       "      <td>Cruise</td>\n",
       "      <td>Probable Cause</td>\n",
       "      <td>NaN</td>\n",
       "    </tr>\n",
       "    <tr>\n",
       "      <th>1</th>\n",
       "      <td>20001218X45447</td>\n",
       "      <td>Accident</td>\n",
       "      <td>LAX94LA336</td>\n",
       "      <td>1962-07-19</td>\n",
       "      <td>BRIDGEPORT, CA</td>\n",
       "      <td>United States</td>\n",
       "      <td>NaN</td>\n",
       "      <td>NaN</td>\n",
       "      <td>NaN</td>\n",
       "      <td>NaN</td>\n",
       "      <td>...</td>\n",
       "      <td>Personal</td>\n",
       "      <td>NaN</td>\n",
       "      <td>4.0</td>\n",
       "      <td>0.0</td>\n",
       "      <td>0.0</td>\n",
       "      <td>0.0</td>\n",
       "      <td>UNK</td>\n",
       "      <td>NaN</td>\n",
       "      <td>Probable Cause</td>\n",
       "      <td>19-09-1996</td>\n",
       "    </tr>\n",
       "    <tr>\n",
       "      <th>2</th>\n",
       "      <td>20061025X01555</td>\n",
       "      <td>Accident</td>\n",
       "      <td>NYC07LA005</td>\n",
       "      <td>1974-08-30</td>\n",
       "      <td>Saltville, VA</td>\n",
       "      <td>United States</td>\n",
       "      <td>36.9222</td>\n",
       "      <td>-81.8781</td>\n",
       "      <td>NaN</td>\n",
       "      <td>NaN</td>\n",
       "      <td>...</td>\n",
       "      <td>Personal</td>\n",
       "      <td>NaN</td>\n",
       "      <td>3.0</td>\n",
       "      <td>NaN</td>\n",
       "      <td>NaN</td>\n",
       "      <td>NaN</td>\n",
       "      <td>IMC</td>\n",
       "      <td>Cruise</td>\n",
       "      <td>Probable Cause</td>\n",
       "      <td>26-02-2007</td>\n",
       "    </tr>\n",
       "    <tr>\n",
       "      <th>3</th>\n",
       "      <td>20001218X45448</td>\n",
       "      <td>Accident</td>\n",
       "      <td>LAX96LA321</td>\n",
       "      <td>1977-06-19</td>\n",
       "      <td>EUREKA, CA</td>\n",
       "      <td>United States</td>\n",
       "      <td>NaN</td>\n",
       "      <td>NaN</td>\n",
       "      <td>NaN</td>\n",
       "      <td>NaN</td>\n",
       "      <td>...</td>\n",
       "      <td>Personal</td>\n",
       "      <td>NaN</td>\n",
       "      <td>2.0</td>\n",
       "      <td>0.0</td>\n",
       "      <td>0.0</td>\n",
       "      <td>0.0</td>\n",
       "      <td>IMC</td>\n",
       "      <td>Cruise</td>\n",
       "      <td>Probable Cause</td>\n",
       "      <td>12-09-2000</td>\n",
       "    </tr>\n",
       "    <tr>\n",
       "      <th>4</th>\n",
       "      <td>20041105X01764</td>\n",
       "      <td>Accident</td>\n",
       "      <td>CHI79FA064</td>\n",
       "      <td>1979-08-02</td>\n",
       "      <td>Canton, OH</td>\n",
       "      <td>United States</td>\n",
       "      <td>NaN</td>\n",
       "      <td>NaN</td>\n",
       "      <td>NaN</td>\n",
       "      <td>NaN</td>\n",
       "      <td>...</td>\n",
       "      <td>Personal</td>\n",
       "      <td>NaN</td>\n",
       "      <td>1.0</td>\n",
       "      <td>2.0</td>\n",
       "      <td>NaN</td>\n",
       "      <td>0.0</td>\n",
       "      <td>VMC</td>\n",
       "      <td>Approach</td>\n",
       "      <td>Probable Cause</td>\n",
       "      <td>16-04-1980</td>\n",
       "    </tr>\n",
       "    <tr>\n",
       "      <th>...</th>\n",
       "      <td>...</td>\n",
       "      <td>...</td>\n",
       "      <td>...</td>\n",
       "      <td>...</td>\n",
       "      <td>...</td>\n",
       "      <td>...</td>\n",
       "      <td>...</td>\n",
       "      <td>...</td>\n",
       "      <td>...</td>\n",
       "      <td>...</td>\n",
       "      <td>...</td>\n",
       "      <td>...</td>\n",
       "      <td>...</td>\n",
       "      <td>...</td>\n",
       "      <td>...</td>\n",
       "      <td>...</td>\n",
       "      <td>...</td>\n",
       "      <td>...</td>\n",
       "      <td>...</td>\n",
       "      <td>...</td>\n",
       "      <td>...</td>\n",
       "    </tr>\n",
       "    <tr>\n",
       "      <th>87946</th>\n",
       "      <td>20221227106491</td>\n",
       "      <td>Accident</td>\n",
       "      <td>ERA23LA093</td>\n",
       "      <td>2022-12-26</td>\n",
       "      <td>Annapolis, MD</td>\n",
       "      <td>United States</td>\n",
       "      <td>NaN</td>\n",
       "      <td>NaN</td>\n",
       "      <td>NaN</td>\n",
       "      <td>NaN</td>\n",
       "      <td>...</td>\n",
       "      <td>Personal</td>\n",
       "      <td>NaN</td>\n",
       "      <td>0.0</td>\n",
       "      <td>1.0</td>\n",
       "      <td>0.0</td>\n",
       "      <td>0.0</td>\n",
       "      <td>NaN</td>\n",
       "      <td>NaN</td>\n",
       "      <td>NaN</td>\n",
       "      <td>29-12-2022</td>\n",
       "    </tr>\n",
       "    <tr>\n",
       "      <th>87947</th>\n",
       "      <td>20221227106494</td>\n",
       "      <td>Accident</td>\n",
       "      <td>ERA23LA095</td>\n",
       "      <td>2022-12-26</td>\n",
       "      <td>Hampton, NH</td>\n",
       "      <td>United States</td>\n",
       "      <td>NaN</td>\n",
       "      <td>NaN</td>\n",
       "      <td>NaN</td>\n",
       "      <td>NaN</td>\n",
       "      <td>...</td>\n",
       "      <td>NaN</td>\n",
       "      <td>NaN</td>\n",
       "      <td>0.0</td>\n",
       "      <td>0.0</td>\n",
       "      <td>0.0</td>\n",
       "      <td>0.0</td>\n",
       "      <td>NaN</td>\n",
       "      <td>NaN</td>\n",
       "      <td>NaN</td>\n",
       "      <td>NaN</td>\n",
       "    </tr>\n",
       "    <tr>\n",
       "      <th>87948</th>\n",
       "      <td>20221227106497</td>\n",
       "      <td>Accident</td>\n",
       "      <td>WPR23LA075</td>\n",
       "      <td>2022-12-26</td>\n",
       "      <td>Payson, AZ</td>\n",
       "      <td>United States</td>\n",
       "      <td>341525N</td>\n",
       "      <td>1112021W</td>\n",
       "      <td>PAN</td>\n",
       "      <td>PAYSON</td>\n",
       "      <td>...</td>\n",
       "      <td>Personal</td>\n",
       "      <td>NaN</td>\n",
       "      <td>0.0</td>\n",
       "      <td>0.0</td>\n",
       "      <td>0.0</td>\n",
       "      <td>1.0</td>\n",
       "      <td>VMC</td>\n",
       "      <td>NaN</td>\n",
       "      <td>NaN</td>\n",
       "      <td>27-12-2022</td>\n",
       "    </tr>\n",
       "    <tr>\n",
       "      <th>87949</th>\n",
       "      <td>20221227106498</td>\n",
       "      <td>Accident</td>\n",
       "      <td>WPR23LA076</td>\n",
       "      <td>2022-12-26</td>\n",
       "      <td>Morgan, UT</td>\n",
       "      <td>United States</td>\n",
       "      <td>NaN</td>\n",
       "      <td>NaN</td>\n",
       "      <td>NaN</td>\n",
       "      <td>NaN</td>\n",
       "      <td>...</td>\n",
       "      <td>Personal</td>\n",
       "      <td>MC CESSNA 210N LLC</td>\n",
       "      <td>0.0</td>\n",
       "      <td>0.0</td>\n",
       "      <td>0.0</td>\n",
       "      <td>0.0</td>\n",
       "      <td>NaN</td>\n",
       "      <td>NaN</td>\n",
       "      <td>NaN</td>\n",
       "      <td>NaN</td>\n",
       "    </tr>\n",
       "    <tr>\n",
       "      <th>87950</th>\n",
       "      <td>20221230106513</td>\n",
       "      <td>Accident</td>\n",
       "      <td>ERA23LA097</td>\n",
       "      <td>2022-12-29</td>\n",
       "      <td>Athens, GA</td>\n",
       "      <td>United States</td>\n",
       "      <td>NaN</td>\n",
       "      <td>NaN</td>\n",
       "      <td>NaN</td>\n",
       "      <td>NaN</td>\n",
       "      <td>...</td>\n",
       "      <td>Personal</td>\n",
       "      <td>NaN</td>\n",
       "      <td>0.0</td>\n",
       "      <td>1.0</td>\n",
       "      <td>0.0</td>\n",
       "      <td>1.0</td>\n",
       "      <td>NaN</td>\n",
       "      <td>NaN</td>\n",
       "      <td>NaN</td>\n",
       "      <td>30-12-2022</td>\n",
       "    </tr>\n",
       "  </tbody>\n",
       "</table>\n",
       "<p>87951 rows × 31 columns</p>\n",
       "</div>"
      ],
      "text/plain": [
       "             Event_Id Investigation_Type Accident_Number  Event_Date  \\\n",
       "0      20001218X45444           Accident      SEA87LA080  1948-10-24   \n",
       "1      20001218X45447           Accident      LAX94LA336  1962-07-19   \n",
       "2      20061025X01555           Accident      NYC07LA005  1974-08-30   \n",
       "3      20001218X45448           Accident      LAX96LA321  1977-06-19   \n",
       "4      20041105X01764           Accident      CHI79FA064  1979-08-02   \n",
       "...               ...                ...             ...         ...   \n",
       "87946  20221227106491           Accident      ERA23LA093  2022-12-26   \n",
       "87947  20221227106494           Accident      ERA23LA095  2022-12-26   \n",
       "87948  20221227106497           Accident      WPR23LA075  2022-12-26   \n",
       "87949  20221227106498           Accident      WPR23LA076  2022-12-26   \n",
       "87950  20221230106513           Accident      ERA23LA097  2022-12-29   \n",
       "\n",
       "              Location        Country Latitude Longitude Airport_Code  \\\n",
       "0      MOOSE CREEK, ID  United States      NaN       NaN          NaN   \n",
       "1       BRIDGEPORT, CA  United States      NaN       NaN          NaN   \n",
       "2        Saltville, VA  United States  36.9222  -81.8781          NaN   \n",
       "3           EUREKA, CA  United States      NaN       NaN          NaN   \n",
       "4           Canton, OH  United States      NaN       NaN          NaN   \n",
       "...                ...            ...      ...       ...          ...   \n",
       "87946    Annapolis, MD  United States      NaN       NaN          NaN   \n",
       "87947      Hampton, NH  United States      NaN       NaN          NaN   \n",
       "87948       Payson, AZ  United States  341525N  1112021W          PAN   \n",
       "87949       Morgan, UT  United States      NaN       NaN          NaN   \n",
       "87950       Athens, GA  United States      NaN       NaN          NaN   \n",
       "\n",
       "      Airport_Name  ... Purpose_of_flight         Air_carrier  \\\n",
       "0              NaN  ...          Personal                 NaN   \n",
       "1              NaN  ...          Personal                 NaN   \n",
       "2              NaN  ...          Personal                 NaN   \n",
       "3              NaN  ...          Personal                 NaN   \n",
       "4              NaN  ...          Personal                 NaN   \n",
       "...            ...  ...               ...                 ...   \n",
       "87946          NaN  ...          Personal                 NaN   \n",
       "87947          NaN  ...               NaN                 NaN   \n",
       "87948       PAYSON  ...          Personal                 NaN   \n",
       "87949          NaN  ...          Personal  MC CESSNA 210N LLC   \n",
       "87950          NaN  ...          Personal                 NaN   \n",
       "\n",
       "      Total_Fatal_Injuries Total_Serious_Injuries Total_Minor_Injuries  \\\n",
       "0                      2.0                    0.0                  0.0   \n",
       "1                      4.0                    0.0                  0.0   \n",
       "2                      3.0                    NaN                  NaN   \n",
       "3                      2.0                    0.0                  0.0   \n",
       "4                      1.0                    2.0                  NaN   \n",
       "...                    ...                    ...                  ...   \n",
       "87946                  0.0                    1.0                  0.0   \n",
       "87947                  0.0                    0.0                  0.0   \n",
       "87948                  0.0                    0.0                  0.0   \n",
       "87949                  0.0                    0.0                  0.0   \n",
       "87950                  0.0                    1.0                  0.0   \n",
       "\n",
       "      Total_Uninjured Weather_Condition  Broad_phase_of_flight  \\\n",
       "0                 0.0               UNK                 Cruise   \n",
       "1                 0.0               UNK                    NaN   \n",
       "2                 NaN               IMC                 Cruise   \n",
       "3                 0.0               IMC                 Cruise   \n",
       "4                 0.0               VMC               Approach   \n",
       "...               ...               ...                    ...   \n",
       "87946             0.0               NaN                    NaN   \n",
       "87947             0.0               NaN                    NaN   \n",
       "87948             1.0               VMC                    NaN   \n",
       "87949             0.0               NaN                    NaN   \n",
       "87950             1.0               NaN                    NaN   \n",
       "\n",
       "        Report_Status Publication_Date  \n",
       "0      Probable Cause              NaN  \n",
       "1      Probable Cause       19-09-1996  \n",
       "2      Probable Cause       26-02-2007  \n",
       "3      Probable Cause       12-09-2000  \n",
       "4      Probable Cause       16-04-1980  \n",
       "...               ...              ...  \n",
       "87946             NaN       29-12-2022  \n",
       "87947             NaN              NaN  \n",
       "87948             NaN       27-12-2022  \n",
       "87949             NaN              NaN  \n",
       "87950             NaN       30-12-2022  \n",
       "\n",
       "[87951 rows x 31 columns]"
      ]
     },
     "execution_count": 1547,
     "metadata": {},
     "output_type": "execute_result"
    }
   ],
   "source": [
    "# Drop all duplicates by Event_Id column\n",
    "# use ignore_index in the methods parameter to also update indexing\n",
    "new_aviation_data = new_aviation_data.drop_duplicates(subset = ['Event_Id'], ignore_index=True )\n",
    "new_aviation_data"
   ]
  },
  {
   "cell_type": "code",
   "execution_count": 1548,
   "metadata": {},
   "outputs": [
    {
     "data": {
      "text/plain": [
       "Event_Id                      0\n",
       "Investigation_Type            0\n",
       "Accident_Number               0\n",
       "Event_Date                    0\n",
       "Location                     53\n",
       "Country                     225\n",
       "Latitude                  53739\n",
       "Longitude                 53748\n",
       "Airport_Code              39948\n",
       "Airport_Name              36073\n",
       "Injury_Severity             990\n",
       "Aircraft_damage            3222\n",
       "Aircraft_Category         55784\n",
       "Registration_Number        1700\n",
       "Make                         85\n",
       "Model                       100\n",
       "Amateur_Built               100\n",
       "Number_of_Engines          6027\n",
       "Engine_Type                9062\n",
       "FAR_Description           56056\n",
       "Schedule                  75591\n",
       "Purpose_of_flight         12731\n",
       "Air_carrier               71434\n",
       "Total_Fatal_Injuries      11267\n",
       "Total_Serious_Injuries    12322\n",
       "Total_Minor_Injuries      11760\n",
       "Total_Uninjured            5863\n",
       "Weather_Condition          4473\n",
       "Broad_phase_of_flight     27661\n",
       "Report_Status              6531\n",
       "Publication_Date          13599\n",
       "dtype: int64"
      ]
     },
     "execution_count": 1548,
     "metadata": {},
     "output_type": "execute_result"
    }
   ],
   "source": [
    "# Total count of null values after dropping events_id duplicates\n",
    "new_aviation_data.isna().sum()"
   ]
  },
  {
   "cell_type": "code",
   "execution_count": 1549,
   "metadata": {},
   "outputs": [
    {
     "name": "stdout",
     "output_type": "stream",
     "text": [
      "Event_Id: = 0\n",
      "Investigation_Type: = 87949\n",
      "Accident_Number: = 0\n",
      "Event_Date: = 73169\n",
      "Location: = 60206\n",
      "Country: = 87732\n",
      "Latitude: = 62358\n",
      "Longitude: = 60794\n",
      "Airport_Code: = 77577\n",
      "Airport_Name: = 63082\n",
      "Injury_Severity: = 87841\n",
      "Aircraft_damage: = 87947\n",
      "Aircraft_Category: = 87936\n",
      "Registration_Number: = 9586\n",
      "Make: = 79752\n",
      "Model: = 75720\n",
      "Amateur_Built: = 87948\n",
      "Number_of_Engines: = 87943\n",
      "Engine_Type: = 87940\n",
      "FAR_Description: = 87921\n",
      "Schedule: = 87947\n",
      "Purpose_of_flight: = 87925\n",
      "Air_carrier: = 74415\n",
      "Total_Fatal_Injuries: = 87825\n",
      "Total_Serious_Injuries: = 87900\n",
      "Total_Minor_Injuries: = 87893\n",
      "Total_Uninjured: = 87571\n",
      "Weather_Condition: = 87947\n",
      "Broad_phase_of_flight: = 87939\n",
      "Report_Status: = 70877\n",
      "Publication_Date: = 85026\n"
     ]
    }
   ],
   "source": [
    "''' call the column_duplicates function to \n",
    "print each column with its count of duplicates.\n",
    "Confirm Events_id has no duplicates '''\n",
    "\n",
    "column_duplicates()"
   ]
  },
  {
   "cell_type": "markdown",
   "metadata": {},
   "source": [
    "**Dropping rows**\n",
    "\n",
    "In this step I will be dropping dataset rows that correspond with null values in the specified columns:\n",
    "* Country\n",
    "* Location\n",
    "* Publication_Date"
   ]
  },
  {
   "cell_type": "code",
   "execution_count": 1550,
   "metadata": {},
   "outputs": [
    {
     "data": {
      "text/plain": [
       "(74311, 32)"
      ]
     },
     "execution_count": 1550,
     "metadata": {},
     "output_type": "execute_result"
    }
   ],
   "source": [
    "# dropping the rows using code below\n",
    "\n",
    "new_aviation_data = new_aviation_data.dropna(subset=['Location','Publication_Date']).reset_index()\n",
    "new_aviation_data.shape"
   ]
  },
  {
   "cell_type": "markdown",
   "metadata": {},
   "source": [
    "**Dropping columns** \n",
    "\n",
    "In this section i will drop columns that will not be considered in creating my insights.\n",
    "\n",
    "Here are the columns: 'Latitude', 'Longitude', 'Air_carrier' ,'Schedule' ,'Aircraft_Category' ,'FAR_Description' ,'Airport_Code' ,'Airport_Name'"
   ]
  },
  {
   "cell_type": "code",
   "execution_count": 1551,
   "metadata": {},
   "outputs": [
    {
     "data": {
      "text/plain": [
       "(74311, 24)"
      ]
     },
     "execution_count": 1551,
     "metadata": {},
     "output_type": "execute_result"
    }
   ],
   "source": [
    "new_aviation_data = new_aviation_data.drop(columns=['Latitude','Longitude','Air_carrier','Schedule','Aircraft_Category','FAR_Description','Airport_Code','Airport_Name' ])\n",
    "new_aviation_data.shape"
   ]
  },
  {
   "cell_type": "code",
   "execution_count": 1552,
   "metadata": {},
   "outputs": [
    {
     "data": {
      "text/plain": [
       "Index(['index', 'Event_Id', 'Investigation_Type', 'Accident_Number',\n",
       "       'Event_Date', 'Location', 'Country', 'Injury_Severity',\n",
       "       'Aircraft_damage', 'Registration_Number', 'Make', 'Model',\n",
       "       'Amateur_Built', 'Number_of_Engines', 'Engine_Type',\n",
       "       'Purpose_of_flight', 'Total_Fatal_Injuries', 'Total_Serious_Injuries',\n",
       "       'Total_Minor_Injuries', 'Total_Uninjured', 'Weather_Condition',\n",
       "       'Broad_phase_of_flight', 'Report_Status', 'Publication_Date'],\n",
       "      dtype='object')"
      ]
     },
     "execution_count": 1552,
     "metadata": {},
     "output_type": "execute_result"
    }
   ],
   "source": [
    "# display columns after I dropped a few.\n",
    "new_aviation_data.columns"
   ]
  },
  {
   "cell_type": "markdown",
   "metadata": {},
   "source": [
    "**Handling Missing Values**"
   ]
  },
  {
   "cell_type": "markdown",
   "metadata": {},
   "source": [
    "Display each Column and its null counts as Percentage"
   ]
  },
  {
   "cell_type": "code",
   "execution_count": 1553,
   "metadata": {},
   "outputs": [
    {
     "data": {
      "text/plain": [
       "index                      0.000000\n",
       "Event_Id                   0.000000\n",
       "Investigation_Type         0.000000\n",
       "Accident_Number            0.000000\n",
       "Event_Date                 0.000000\n",
       "Location                   0.000000\n",
       "Country                    0.222040\n",
       "Injury_Severity            0.981012\n",
       "Aircraft_damage            3.523032\n",
       "Registration_Number        1.722491\n",
       "Make                       0.104964\n",
       "Model                      0.122458\n",
       "Amateur_Built              0.115730\n",
       "Number_of_Engines          6.694837\n",
       "Engine_Type               10.013322\n",
       "Purpose_of_flight         14.096163\n",
       "Total_Fatal_Injuries      14.902235\n",
       "Total_Serious_Injuries    16.199486\n",
       "Total_Minor_Injuries      15.427057\n",
       "Total_Uninjured            7.584341\n",
       "Weather_Condition          4.837776\n",
       "Broad_phase_of_flight     35.202056\n",
       "Report_Status              7.416130\n",
       "Publication_Date           0.000000\n",
       "dtype: float64"
      ]
     },
     "execution_count": 1553,
     "metadata": {},
     "output_type": "execute_result"
    }
   ],
   "source": [
    "''' Get the mean of each column and multiply by 100,\n",
    "to make it a percentage number '''\n",
    "\n",
    "new_aviation_data.isna().mean() * 100"
   ]
  },
  {
   "cell_type": "markdown",
   "metadata": {},
   "source": [
    "**Missing Values**\n",
    "\n",
    "Dealing with missing values in each column in our dataset"
   ]
  },
  {
   "cell_type": "code",
   "execution_count": 1554,
   "metadata": {},
   "outputs": [],
   "source": [
    "''' Make column\n",
    "filling missing values with mode'''\n",
    "\n",
    "new_aviation_data['Make'] = new_aviation_data['Make'].fillna(new_aviation_data['Make'].mode()[0])"
   ]
  },
  {
   "cell_type": "code",
   "execution_count": 1555,
   "metadata": {},
   "outputs": [],
   "source": [
    "''' Model column\n",
    "filling missing values with mode'''\n",
    "\n",
    "new_aviation_data['Model'] = new_aviation_data['Model'].fillna(new_aviation_data['Model'].mode()[0])"
   ]
  },
  {
   "cell_type": "code",
   "execution_count": 1556,
   "metadata": {},
   "outputs": [],
   "source": [
    "''' weather Condition column\n",
    "filling missing values with mode'''\n",
    "\n",
    "new_aviation_data['Weather_Condition'] = new_aviation_data['Weather_Condition'].fillna(new_aviation_data['Weather_Condition'].mode()[0])"
   ]
  },
  {
   "cell_type": "code",
   "execution_count": 1557,
   "metadata": {},
   "outputs": [],
   "source": [
    "''' Amateur Built column\n",
    "filling missing values with mode'''\n",
    "\n",
    "new_aviation_data['Amateur_Built'] = new_aviation_data['Amateur_Built'].fillna(new_aviation_data['Amateur_Built'].mode()[0])"
   ]
  },
  {
   "cell_type": "code",
   "execution_count": 1558,
   "metadata": {},
   "outputs": [],
   "source": [
    "''' Number_of_Engines column\n",
    "filling missing values with mode'''\n",
    "\n",
    "new_aviation_data['Number_of_Engines'] = new_aviation_data['Number_of_Engines'].fillna(new_aviation_data['Number_of_Engines'].mode()[0])"
   ]
  },
  {
   "cell_type": "code",
   "execution_count": 1559,
   "metadata": {},
   "outputs": [],
   "source": [
    "''' Country column\n",
    "filling missing values with mode'''\n",
    "\n",
    "new_aviation_data['Country'] = new_aviation_data['Country'].fillna(new_aviation_data['Country'].mode()[0])"
   ]
  },
  {
   "cell_type": "code",
   "execution_count": 1560,
   "metadata": {},
   "outputs": [],
   "source": [
    "''' Engine_Type column\n",
    "filling missing values with mode'''\n",
    "\n",
    "new_aviation_data['Engine_Type'] = new_aviation_data['Engine_Type'].fillna(new_aviation_data['Engine_Type'].mode()[0])"
   ]
  },
  {
   "cell_type": "code",
   "execution_count": 1561,
   "metadata": {},
   "outputs": [],
   "source": [
    "''' Report_Status column\n",
    "filling missing values with mode'''\n",
    "\n",
    "new_aviation_data['Report_Status'] = new_aviation_data['Report_Status'].fillna(new_aviation_data['Report_Status'].mode()[0])"
   ]
  },
  {
   "cell_type": "code",
   "execution_count": 1562,
   "metadata": {},
   "outputs": [],
   "source": [
    "''' Purpose_of_flight column\n",
    "filling missing values with mode'''\n",
    "\n",
    "new_aviation_data['Purpose_of_flight'] = new_aviation_data['Purpose_of_flight'].fillna(new_aviation_data['Purpose_of_flight'].mode()[0])"
   ]
  },
  {
   "cell_type": "code",
   "execution_count": 1563,
   "metadata": {},
   "outputs": [],
   "source": [
    "''' Aircraft_damage column\n",
    "filling missing values with mode'''\n",
    "\n",
    "new_aviation_data['Aircraft_damage'] = new_aviation_data['Aircraft_damage'].fillna(new_aviation_data['Aircraft_damage'].mode()[0])"
   ]
  },
  {
   "cell_type": "code",
   "execution_count": 1564,
   "metadata": {},
   "outputs": [
    {
     "data": {
      "text/plain": [
       "(74311, 24)"
      ]
     },
     "execution_count": 1564,
     "metadata": {},
     "output_type": "execute_result"
    }
   ],
   "source": [
    "# updated shape of my dataset\n",
    "new_aviation_data.shape"
   ]
  },
  {
   "cell_type": "code",
   "execution_count": 1565,
   "metadata": {},
   "outputs": [
    {
     "data": {
      "text/plain": [
       "index                         0\n",
       "Event_Id                      0\n",
       "Investigation_Type            0\n",
       "Accident_Number               0\n",
       "Event_Date                    0\n",
       "Location                      0\n",
       "Country                       0\n",
       "Injury_Severity             729\n",
       "Aircraft_damage               0\n",
       "Registration_Number        1280\n",
       "Make                          0\n",
       "Model                         0\n",
       "Amateur_Built                 0\n",
       "Number_of_Engines             0\n",
       "Engine_Type                   0\n",
       "Purpose_of_flight             0\n",
       "Total_Fatal_Injuries      11074\n",
       "Total_Serious_Injuries    12038\n",
       "Total_Minor_Injuries      11464\n",
       "Total_Uninjured            5636\n",
       "Weather_Condition             0\n",
       "Broad_phase_of_flight     26159\n",
       "Report_Status                 0\n",
       "Publication_Date              0\n",
       "dtype: int64"
      ]
     },
     "execution_count": 1565,
     "metadata": {},
     "output_type": "execute_result"
    }
   ],
   "source": [
    "new_aviation_data.isna().sum()"
   ]
  },
  {
   "cell_type": "code",
   "execution_count": 1566,
   "metadata": {},
   "outputs": [
    {
     "data": {
      "text/plain": [
       "Non-Fatal     56437\n",
       "Fatal          5066\n",
       "Fatal(1)       4974\n",
       "Fatal(2)       2944\n",
       "Incident       1636\n",
       "              ...  \n",
       "Fatal(256)        1\n",
       "Fatal(57)         1\n",
       "Fatal(174)        1\n",
       "Fatal(89)         1\n",
       "Fatal(115)        1\n",
       "Name: Injury_Severity, Length: 99, dtype: int64"
      ]
     },
     "execution_count": 1566,
     "metadata": {},
     "output_type": "execute_result"
    }
   ],
   "source": [
    "new_aviation_data['Injury_Severity'].value_counts()"
   ]
  },
  {
   "cell_type": "code",
   "execution_count": 1567,
   "metadata": {},
   "outputs": [
    {
     "data": {
      "text/plain": [
       "array(['Fatal(4)', 'Fatal(3)', 'Fatal(2)', 'Fatal(1)', 'Non-Fatal',\n",
       "       'Incident', 'Fatal(8)', 'Fatal(78)', 'Fatal(7)', 'Fatal(6)',\n",
       "       'Fatal(5)', 'Fatal(153)', 'Fatal(12)', 'Fatal(14)', 'Fatal(11)',\n",
       "       'Fatal(29)', 'Fatal(17)', 'Fatal(256)', 'Fatal(25)', 'Fatal(82)',\n",
       "       'Fatal(10)', 'Fatal(9)', 'Fatal(156)', 'Fatal(28)', 'Fatal(18)',\n",
       "       'Fatal(43)', 'Unavailable', 'Fatal(15)', 'Fatal(270)',\n",
       "       'Fatal(144)', 'Fatal(174)', 'Fatal(111)', 'Fatal(131)',\n",
       "       'Fatal(20)', 'Fatal(73)', 'Fatal(34)', 'Fatal(23)', 'Fatal(13)',\n",
       "       'Fatal(87)', 'Fatal(30)', 'Fatal(27)', 'Fatal(16)', 'Fatal(47)',\n",
       "       'Fatal(56)', 'Fatal(37)', 'Fatal(132)', 'Fatal(68)', 'Fatal(52)',\n",
       "       'Fatal(65)', 'Fatal(72)', 'Fatal(189)', 'Fatal(123)', 'Fatal(33)',\n",
       "       'Fatal(110)', 'Fatal(230)', 'Fatal(70)', 'Fatal(349)',\n",
       "       'Fatal(228)', 'Fatal(75)', 'Fatal(104)', 'Fatal(229)', 'Fatal(80)',\n",
       "       'Fatal(217)', 'Fatal(88)', 'Fatal(19)', 'Fatal(60)', 'Fatal(113)',\n",
       "       'Fatal(143)', 'Fatal(83)', 'Fatal(44)', 'Fatal(64)', 'Fatal(92)',\n",
       "       'Fatal(118)', 'Fatal(265)', 'Fatal(24)', 'Fatal(138)',\n",
       "       'Fatal(206)', 'Fatal(71)', 'Fatal(21)', 'Fatal(46)', 'Fatal(102)',\n",
       "       'Fatal(115)', 'Fatal(121)', 'Fatal(160)', 'Fatal(45)',\n",
       "       'Fatal(145)', 'Fatal(117)', 'Fatal(107)', 'Fatal(124)',\n",
       "       'Fatal(49)', 'Fatal(154)', 'Fatal(96)', 'Fatal(114)', 'Fatal(199)',\n",
       "       'Fatal(89)', 'Fatal(57)', 'Fatal', nan, 'Minor', 'Serious'],\n",
       "      dtype=object)"
      ]
     },
     "execution_count": 1567,
     "metadata": {},
     "output_type": "execute_result"
    }
   ],
   "source": [
    "new_aviation_data['Injury_Severity'].unique()"
   ]
  },
  {
   "cell_type": "markdown",
   "metadata": {},
   "source": [
    "## IV. Data Analysis"
   ]
  },
  {
   "cell_type": "markdown",
   "metadata": {},
   "source": [
    "Get the **top 10 aircraft involved in accidents** according to their make.\n",
    "\n",
    "Here, we wanted to identify planes that are highly at risk to accidents and avoid purchase."
   ]
  },
  {
   "cell_type": "code",
   "execution_count": 1568,
   "metadata": {},
   "outputs": [
    {
     "data": {
      "text/plain": [
       "Cessna      22186\n",
       "Piper       12171\n",
       "Beech        3468\n",
       "Bell         1692\n",
       "Boeing       1259\n",
       "BEECH        1004\n",
       "BOEING        997\n",
       "Robinson      868\n",
       "Mooney        866\n",
       "Grumman       806\n",
       "Name: Make, dtype: int64"
      ]
     },
     "execution_count": 1568,
     "metadata": {},
     "output_type": "execute_result"
    }
   ],
   "source": [
    "# Top 10 aircrafts by their make\n",
    "top_10_Make = new_aviation_data['Make'].value_counts().head(10)\n",
    "top_10_Make"
   ]
  },
  {
   "cell_type": "code",
   "execution_count": 1569,
   "metadata": {},
   "outputs": [
    {
     "data": {
      "text/plain": [
       "([0, 1, 2, 3, 4, 5, 6, 7, 8, 9],\n",
       " [Text(0, 0, ''),\n",
       "  Text(0, 0, ''),\n",
       "  Text(0, 0, ''),\n",
       "  Text(0, 0, ''),\n",
       "  Text(0, 0, ''),\n",
       "  Text(0, 0, ''),\n",
       "  Text(0, 0, ''),\n",
       "  Text(0, 0, ''),\n",
       "  Text(0, 0, ''),\n",
       "  Text(0, 0, '')])"
      ]
     },
     "execution_count": 1569,
     "metadata": {},
     "output_type": "execute_result"
    },
    {
     "data": {
      "image/png": "[encoded data removed]",
      "text/plain": [
       "<Figure size 1080x648 with 1 Axes>"
      ]
     },
     "metadata": {
      "needs_background": "light"
     },
     "output_type": "display_data"
    }
   ],
   "source": [
    "# plot a bar graph showing a visualisation of high risk accidents\n",
    "fig, ax = plt.subplots(figsize=(15, 9))\n",
    "\n",
    "x = top_10_Make.index\n",
    "y = top_10_Make.values\n",
    "# bar colors\n",
    "cmap = plt.get_cmap('viridis', len(top_10_Make))\n",
    "colors = cmap(range(len(top_10_Make)) )\n",
    "\n",
    "ax.set(\n",
    "    title = \"Top 10 Aircrafts by Make\", \n",
    "    xlabel = \"Aircraft Make\",\n",
    "    ylabel = \"Count of Aircraft\",\n",
    "    # customised ticks\n",
    "    yticks = [(value * 10**3) for value in np.arange(0.5,24,1.5)]\n",
    ")\n",
    "\n",
    "ax.bar(x, y, align='edge', color=colors)\n",
    "# ax.bar(x[0], y[:1], width=0.85, align='edge', edgecolor='#e0c122')\n",
    "\n",
    "plt.xticks(rotation=50)\n"
   ]
  },
  {
   "cell_type": "markdown",
   "metadata": {},
   "source": [
    "Here are the Aircraft Make to consider purchasing for a startup business, because they portray low risk of accidents"
   ]
  },
  {
   "cell_type": "code",
   "execution_count": 1570,
   "metadata": {},
   "outputs": [
    {
     "data": {
      "text/plain": [
       "Cora                      1\n",
       "Toevs                     1\n",
       "David C. Bock             1\n",
       "ROBERTS BRUCE W           1\n",
       "Gerald Barker             1\n",
       "NORTHLAND AVIATION LLC    1\n",
       "Niemann                   1\n",
       "Denny Aerocraft           1\n",
       "Westholm                  1\n",
       "FLY HARD TRIKE INC        1\n",
       "Name: Make, dtype: int64"
      ]
     },
     "execution_count": 1570,
     "metadata": {},
     "output_type": "execute_result"
    }
   ],
   "source": [
    "''' Low risk Aircrafts by Make \n",
    "This type of make shows a low count of accidents'''\n",
    "\n",
    "bottom_10_Make = new_aviation_data['Make'].value_counts().tail(10)\n",
    "bottom_10_Make"
   ]
  },
  {
   "cell_type": "markdown",
   "metadata": {},
   "source": [
    "#### Weather Condition\n",
    "\n",
    "Here, we are getting a view of how the weather conditions contributed to the accidents"
   ]
  },
  {
   "cell_type": "code",
   "execution_count": 1571,
   "metadata": {},
   "outputs": [
    {
     "data": {
      "text/plain": [
       "VMC    68632\n",
       "IMC     4865\n",
       "UNK      814\n",
       "Name: Weather_Condition, dtype: int64"
      ]
     },
     "execution_count": 1571,
     "metadata": {},
     "output_type": "execute_result"
    }
   ],
   "source": [
    "new_aviation_data['Weather_Condition'].value_counts()"
   ]
  },
  {
   "cell_type": "code",
   "execution_count": 1678,
   "metadata": {},
   "outputs": [
    {
     "data": {
      "image/png": "[encoded data removed]",
      "text/plain": [
       "<Figure size 576x720 with 1 Axes>"
      ]
     },
     "metadata": {
      "needs_background": "light"
     },
     "output_type": "display_data"
    }
   ],
   "source": [
    "'''From our results below, VMC is a harsh weather condition that can bring\n",
    "negative impact to the business.\n",
    "The flight control dispatch department should be very keen concerning the weather.\n",
    "\n",
    "IMC and UNK are less risky conditions to fly'''\n",
    "\n",
    "harsh_weather = new_aviation_data['Weather_Condition'].value_counts()\n",
    "\n",
    "fig, ax = plt.subplots(figsize=(8, 10))\n",
    "\n",
    "color_Weather = ['Red', 'Orange','Blue','Green']\n",
    "ax.bar(harsh_weather.index, harsh_weather, color=color_Weather)\n",
    "\n",
    "ax.set_title('Distribution of Accidents by Weather')\n",
    "ax.set_xlabel('Weather Condition')\n",
    "ax.set_ylabel('Number of Accidents')\n",
    "\n",
    "plt.show()"
   ]
  },
  {
   "cell_type": "markdown",
   "metadata": {},
   "source": [
    "#### Event Date\n",
    "\n",
    "Formatting the dates when the events occured with respect to number of accidents per year."
   ]
  },
  {
   "cell_type": "code",
   "execution_count": 1703,
   "metadata": {},
   "outputs": [
    {
     "data": {
      "text/plain": [
       "['2018', '2019', '2020', '2021', '2022']"
      ]
     },
     "execution_count": 1703,
     "metadata": {},
     "output_type": "execute_result"
    }
   ],
   "source": [
    "'''grabbing the accident year from events date column, keeping only unique\n",
    "values and sorting them in ascending order'''\n",
    "\n",
    "t = new_aviation_data.loc[ : , 'Event_Date']\n",
    "t2 = set(pd.to_datetime(t).dt.strftime('%Y'))\n",
    "list(sorted(t2))[-5:]"
   ]
  },
  {
   "cell_type": "code",
   "execution_count": 1702,
   "metadata": {},
   "outputs": [
    {
     "data": {
      "text/plain": [
       "1982-05-16    25\n",
       "2000-07-08    25\n",
       "2001-06-16    23\n",
       "1988-08-07    23\n",
       "2001-07-21    23\n",
       "              ..\n",
       "1986-11-10     1\n",
       "2018-01-31     1\n",
       "2009-03-11     1\n",
       "2013-04-02     1\n",
       "1998-12-21     1\n",
       "Name: Event_Date, Length: 13572, dtype: int64"
      ]
     },
     "execution_count": 1702,
     "metadata": {},
     "output_type": "execute_result"
    }
   ],
   "source": [
    "new_aviation_data['Event_Date'].value_counts()"
   ]
  },
  {
   "cell_type": "code",
   "execution_count": 1701,
   "metadata": {},
   "outputs": [
    {
     "data": {
      "text/plain": [
       "[1, 1, 1, 1, 1]"
      ]
     },
     "execution_count": 1701,
     "metadata": {},
     "output_type": "execute_result"
    }
   ],
   "source": [
    "sorted(new_aviation_data['Event_Date'].value_counts())"
   ]
  },
  {
   "cell_type": "code",
   "execution_count": 1652,
   "metadata": {},
   "outputs": [
    {
     "name": "stdout",
     "output_type": "stream",
     "text": [
      "-------\n",
      "['1962', '1974', '1977', '1979', '1981', '1982', '1983', '1984', '1985', '1986', '1987', '1988', '1989', '1990', '1991', '1992', '1993', '1994', '1995', '1996', '1997', '1998', '1999', '2000', '2001', '2002', '2003', '2004', '2005', '2006', '2007', '2008', '2009', '2010', '2011', '2012', '2013', '2014', '2015', '2016', '2017', '2018', '2019', '2020', '2021', '2022']\n"
     ]
    }
   ],
   "source": [
    "'''grabbing the accident year from events date column, keeping only unique\n",
    "values and sorting them in ascending order'''\n",
    "\n",
    "year_record = []\n",
    "for year in accident_year.index:\n",
    "    year_record.append(year[-4:])\n",
    "print('-------')\n",
    "\n",
    "year_record = set(year_record)\n",
    "print(sorted(year_record))"
   ]
  },
  {
   "cell_type": "code",
   "execution_count": null,
   "metadata": {},
   "outputs": [],
   "source": [
    "acc_year = year_record[:10]\n",
    "service = list(data.index[:10])\n",
    "accidents = list(data.values[:10])\n",
    "\n",
    "fig, ax = plt.subplots(1, 3, figsize=(20, 7), sharey=True)\n",
    "\n",
    "ax[0].bar(service, accidents)\n",
    "ax[1].scatter(service, accidents)\n",
    "ax[2].plot(service, accidents)\n",
    "\n",
    "for ax in (ax[0], ax[1], ax[2]):\n",
    "    ax.tick_params(axis='x', rotation=70)\n",
    "    # plt.xticks(rotation=90)\n",
    "\n",
    "\n",
    "fig.suptitle('Aircraft Service')"
   ]
  },
  {
   "cell_type": "code",
   "execution_count": 1621,
   "metadata": {},
   "outputs": [
    {
     "data": {
      "text/plain": [
       "index                         0\n",
       "Event_Id                      0\n",
       "Investigation_Type            0\n",
       "Accident_Number               0\n",
       "Event_Date                    0\n",
       "Location                      0\n",
       "Country                       0\n",
       "Injury_Severity             729\n",
       "Aircraft_damage               0\n",
       "Registration_Number        1280\n",
       "Make                          0\n",
       "Model                         0\n",
       "Amateur_Built                 0\n",
       "Number_of_Engines             0\n",
       "Engine_Type                   0\n",
       "Purpose_of_flight             0\n",
       "Total_Fatal_Injuries      11074\n",
       "Total_Serious_Injuries    12038\n",
       "Total_Minor_Injuries      11464\n",
       "Total_Uninjured            5636\n",
       "Weather_Condition             0\n",
       "Broad_phase_of_flight     26159\n",
       "Report_Status                 0\n",
       "Publication_Date              0\n",
       "dtype: int64"
      ]
     },
     "execution_count": 1621,
     "metadata": {},
     "output_type": "execute_result"
    }
   ],
   "source": [
    "new_aviation_data.isna().sum()"
   ]
  },
  {
   "cell_type": "markdown",
   "metadata": {},
   "source": [
    "#### Purpose_of_flight\n",
    "\n",
    "As a startup business, we need to identify the risks encountered to consider which service to venture in."
   ]
  },
  {
   "cell_type": "code",
   "execution_count": 1626,
   "metadata": {},
   "outputs": [
    {
     "data": {
      "text/plain": [
       "Personal               52155\n",
       "Instructional           9067\n",
       "Aerial Application      3834\n",
       "Business                2980\n",
       "Positioning             1449\n",
       "Other Work Use          1099\n",
       "Aerial Observation       689\n",
       "Public Aircraft          672\n",
       "Ferry                    643\n",
       "Executive/corporate      416\n",
       "Name: Purpose_of_flight, dtype: int64"
      ]
     },
     "execution_count": 1626,
     "metadata": {},
     "output_type": "execute_result"
    }
   ],
   "source": [
    "# top 10 high risk aircraft services\n",
    "new_aviation_data['Purpose_of_flight'].value_counts().head(10)"
   ]
  },
  {
   "cell_type": "code",
   "execution_count": 1625,
   "metadata": {},
   "outputs": [
    {
     "data": {
      "text/plain": [
       "Air Race show              98\n",
       "Public Aircraft - Local    72\n",
       "Public Aircraft - State    64\n",
       "Air Race/show              53\n",
       "Glider Tow                 53\n",
       "Firefighting               40\n",
       "Air Drop                   11\n",
       "ASHO                        5\n",
       "PUBS                        4\n",
       "PUBL                        1\n",
       "Name: Purpose_of_flight, dtype: int64"
      ]
     },
     "execution_count": 1625,
     "metadata": {},
     "output_type": "execute_result"
    }
   ],
   "source": [
    "# top 10 low risk aircraft services\n",
    "new_aviation_data['Purpose_of_flight'].value_counts().tail(10)"
   ]
  },
  {
   "cell_type": "code",
   "execution_count": 1627,
   "metadata": {},
   "outputs": [
    {
     "data": {
      "text/plain": [
       "0             Personal\n",
       "1             Personal\n",
       "2             Personal\n",
       "3             Personal\n",
       "4             Personal\n",
       "             ...      \n",
       "74306    Instructional\n",
       "74307         Personal\n",
       "74308         Personal\n",
       "74309         Personal\n",
       "74310         Personal\n",
       "Name: Purpose_of_flight, Length: 74311, dtype: object"
      ]
     },
     "execution_count": 1627,
     "metadata": {},
     "output_type": "execute_result"
    }
   ],
   "source": [
    "new_aviation_data['Purpose_of_flight']"
   ]
  },
  {
   "cell_type": "code",
   "execution_count": 1630,
   "metadata": {},
   "outputs": [
    {
     "data": {
      "text/plain": [
       "Index(['Personal', 'Instructional', 'Aerial Application', 'Business',\n",
       "       'Positioning', 'Other Work Use', 'Aerial Observation',\n",
       "       'Public Aircraft', 'Ferry', 'Executive/corporate'],\n",
       "      dtype='object')"
      ]
     },
     "execution_count": 1630,
     "metadata": {},
     "output_type": "execute_result"
    }
   ],
   "source": [
    "new_aviation_data['Purpose_of_flight'].value_counts().index[:10]"
   ]
  },
  {
   "cell_type": "code",
   "execution_count": 1680,
   "metadata": {},
   "outputs": [
    {
     "data": {
      "text/plain": [
       "Text(0.5, 0.98, 'High risk Aircraft Service')"
      ]
     },
     "execution_count": 1680,
     "metadata": {},
     "output_type": "execute_result"
    },
    {
     "data": {
      "image/png": "[encoded data removed]",
      "text/plain": [
       "<Figure size 1440x504 with 3 Axes>"
      ]
     },
     "metadata": {
      "needs_background": "light"
     },
     "output_type": "display_data"
    }
   ],
   "source": [
    "# Highly at risk aircraft service\n",
    "data = new_aviation_data['Purpose_of_flight'].value_counts()\n",
    "service = list(data.index[:10])\n",
    "accidents = list(data.values[:10])\n",
    "\n",
    "fig, ax = plt.subplots(1, 3, figsize=(20, 7), sharey=True)\n",
    "\n",
    "ax[0].bar(service, accidents)\n",
    "ax[1].scatter(service, accidents)\n",
    "ax[2].plot(service, accidents)\n",
    "\n",
    "for ax in (ax[0], ax[1], ax[2]):\n",
    "    ax.tick_params(axis='x', rotation=70)\n",
    "    # plt.xticks(rotation=90)\n",
    "\n",
    "\n",
    "fig.suptitle('High risk Aircraft Service')"
   ]
  },
  {
   "cell_type": "code",
   "execution_count": 1704,
   "metadata": {},
   "outputs": [
    {
     "data": {
      "text/plain": [
       "Text(0.5, 0.98, 'Low Risk Aircraft Service')"
      ]
     },
     "execution_count": 1704,
     "metadata": {},
     "output_type": "execute_result"
    },
    {
     "data": {
      "image/png": "[encoded data removed]",
      "text/plain": [
       "<Figure size 1440x504 with 3 Axes>"
      ]
     },
     "metadata": {
      "needs_background": "light"
     },
     "output_type": "display_data"
    }
   ],
   "source": [
    "# Low risk aircraft service\n",
    "data = new_aviation_data['Purpose_of_flight'].value_counts()\n",
    "service = list(data.index[-10:])\n",
    "accidents = list(data.values[-10:])\n",
    "\n",
    "fig, ax = plt.subplots(1, 3, figsize=(20, 7), sharey=True)\n",
    "\n",
    "ax[0].bar(service, accidents)\n",
    "ax[1].scatter(service, accidents)\n",
    "ax[2].plot(service, accidents)\n",
    "\n",
    "for ax in (ax[0], ax[1], ax[2]):\n",
    "    ax.tick_params(axis='x', rotation=70)\n",
    "    # plt.xticks(rotation=90)\n",
    "\n",
    "\n",
    "fig.suptitle('Low Risk Aircraft Service')"
   ]
  },
  {
   "cell_type": "code",
   "execution_count": null,
   "metadata": {},
   "outputs": [],
   "source": []
  }
 ],
 "metadata": {
  "kernelspec": {
   "display_name": "Python 3 (ipykernel)",
   "language": "python",
   "name": "python3"
  },
  "language_info": {
   "codemirror_mode": {
    "name": "ipython",
    "version": 3
   },
   "file_extension": ".py",
   "mimetype": "text/x-python",
   "name": "python",
   "nbconvert_exporter": "python",
   "pygments_lexer": "ipython3",
   "version": "3.8.5"
  }
 },
 "nbformat": 4,
 "nbformat_minor": 4
}
